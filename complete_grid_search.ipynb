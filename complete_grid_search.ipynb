{
 "cells": [
  {
   "cell_type": "markdown",
   "metadata": {},
   "source": [
    "### Grid search to find best combination of features, $k$ and $n_{folds}$"
   ]
  },
  {
   "cell_type": "markdown",
   "metadata": {},
   "source": [
    "```python\n",
    "\n",
    "    import pandas as pd\n",
    "    import numpy as np\n",
    "    from sklearn.neighbors import KNeighborsRegressor\n",
    "    from sklearn.metrics import mean_squared_error\n",
    "    from sklearn.model_selection import cross_val_score, KFold\n",
    "\n",
    "    # Todas as combinações de features possíveis selecionando até n_max_features\n",
    "    n_max_features = 5\n",
    "    features = list(steam_df.columns)\n",
    "    features.remove('ResponseName')\n",
    "    features.remove('PriceFinal')\n",
    "    features_comb = []\n",
    "    import itertools\n",
    "    for L in range(1, n_max_features+1):\n",
    "        for subset in itertools.combinations(features, L):\n",
    "            features_comb.append(list(subset))\n",
    "    #features_comb = [['ReleaseDate'], ['ReleaseDate', 'RequiredAge'], ['ReleaseDate', 'RequiredAge', 'DLCCount']]\n",
    "    \n",
    "    # Valores de k testados\n",
    "    k_values = list(range(1,21))\n",
    "    \n",
    "    # Número de folds testados\n",
    "    n_folds = [10]\n",
    "    \n",
    "    results = pd.DataFrame(columns=['features', 'k_value', 'n_folds', 'avg_rmse', 'std_rmse'])\n",
    "   \n",
    "    for features in features_comb:\n",
    "        for k in k_values:\n",
    "            for folds in n_folds:\n",
    "                X = features\n",
    "                y = 'PriceFinal'\n",
    "                kf = KFold(folds, shuffle=True, random_state=1)\n",
    "                model = KNeighborsRegressor(n_neighbors = k)\n",
    "                mses = cross_val_score(model, steam_df[X]\n",
    "                                       steam_df[y], scoring=\\neg_mean_squared_error\\, cv=kf)\n",
    "                rmses = np.sqrt(np.absolute(mses))\n",
    "                avg_rmse = np.mean(rmses)\n",
    "                std_rmse = np.std(rmses)\n",
    "                results = results.append(pd.DataFrame([[str(features), k, folds, avg_rmse, std_rmse]], columns=['features', 'k_value', 'n_folds', 'avg_rmse', 'std_rmse']), ignore_index=True)\n",
    "\n",
    "    results.to_csv('results2.csv')\n",
    "```"
   ]
  },
  {
   "cell_type": "code",
   "execution_count": 1,
   "metadata": {
    "collapsed": true
   },
   "outputs": [],
   "source": [
    "import pandas as pd\n",
    "import numpy as np\n",
    "results = pd.read_csv('results2.csv')"
   ]
  },
  {
   "cell_type": "code",
   "execution_count": 2,
   "metadata": {
    "collapsed": false
   },
   "outputs": [
    {
     "data": {
      "text/html": [
       "<div>\n",
       "<table border=\"1\" class=\"dataframe\">\n",
       "  <thead>\n",
       "    <tr style=\"text-align: right;\">\n",
       "      <th></th>\n",
       "      <th>Unnamed: 0</th>\n",
       "      <th>features</th>\n",
       "      <th>k_value</th>\n",
       "      <th>n_folds</th>\n",
       "      <th>avg_rmse</th>\n",
       "      <th>std_rmse</th>\n",
       "    </tr>\n",
       "  </thead>\n",
       "  <tbody>\n",
       "    <tr>\n",
       "      <th>19217</th>\n",
       "      <td>19217</td>\n",
       "      <td>['ReleaseDate', 'DLCCount', 'MovieCount', 'Gen...</td>\n",
       "      <td>18.0</td>\n",
       "      <td>10.0</td>\n",
       "      <td>12.194433</td>\n",
       "      <td>1.724537</td>\n",
       "    </tr>\n",
       "    <tr>\n",
       "      <th>19216</th>\n",
       "      <td>19216</td>\n",
       "      <td>['ReleaseDate', 'DLCCount', 'MovieCount', 'Gen...</td>\n",
       "      <td>17.0</td>\n",
       "      <td>10.0</td>\n",
       "      <td>12.208596</td>\n",
       "      <td>1.743588</td>\n",
       "    </tr>\n",
       "    <tr>\n",
       "      <th>19218</th>\n",
       "      <td>19218</td>\n",
       "      <td>['ReleaseDate', 'DLCCount', 'MovieCount', 'Gen...</td>\n",
       "      <td>19.0</td>\n",
       "      <td>10.0</td>\n",
       "      <td>12.208759</td>\n",
       "      <td>1.733297</td>\n",
       "    </tr>\n",
       "    <tr>\n",
       "      <th>20334</th>\n",
       "      <td>20334</td>\n",
       "      <td>['ReleaseDate', 'Metacritic', 'MovieCount', 'G...</td>\n",
       "      <td>15.0</td>\n",
       "      <td>10.0</td>\n",
       "      <td>12.210979</td>\n",
       "      <td>1.713688</td>\n",
       "    </tr>\n",
       "    <tr>\n",
       "      <th>19210</th>\n",
       "      <td>19210</td>\n",
       "      <td>['ReleaseDate', 'DLCCount', 'MovieCount', 'Gen...</td>\n",
       "      <td>11.0</td>\n",
       "      <td>10.0</td>\n",
       "      <td>12.219757</td>\n",
       "      <td>1.728441</td>\n",
       "    </tr>\n",
       "  </tbody>\n",
       "</table>\n",
       "</div>"
      ],
      "text/plain": [
       "       Unnamed: 0                                           features  k_value  \\\n",
       "19217       19217  ['ReleaseDate', 'DLCCount', 'MovieCount', 'Gen...     18.0   \n",
       "19216       19216  ['ReleaseDate', 'DLCCount', 'MovieCount', 'Gen...     17.0   \n",
       "19218       19218  ['ReleaseDate', 'DLCCount', 'MovieCount', 'Gen...     19.0   \n",
       "20334       20334  ['ReleaseDate', 'Metacritic', 'MovieCount', 'G...     15.0   \n",
       "19210       19210  ['ReleaseDate', 'DLCCount', 'MovieCount', 'Gen...     11.0   \n",
       "\n",
       "       n_folds   avg_rmse  std_rmse  \n",
       "19217     10.0  12.194433  1.724537  \n",
       "19216     10.0  12.208596  1.743588  \n",
       "19218     10.0  12.208759  1.733297  \n",
       "20334     10.0  12.210979  1.713688  \n",
       "19210     10.0  12.219757  1.728441  "
      ]
     },
     "execution_count": 2,
     "metadata": {},
     "output_type": "execute_result"
    }
   ],
   "source": [
    "results.sort_values('avg_rmse').head()"
   ]
  },
  {
   "cell_type": "code",
   "execution_count": 3,
   "metadata": {
    "collapsed": false
   },
   "outputs": [
    {
     "data": {
      "text/plain": [
       "\"['ReleaseDate', 'DLCCount', 'MovieCount', 'GenreScore', 'CategoryScore']\""
      ]
     },
     "execution_count": 3,
     "metadata": {},
     "output_type": "execute_result"
    }
   ],
   "source": [
    "results.sort_values('avg_rmse').iloc[0]['features']"
   ]
  },
  {
   "cell_type": "code",
   "execution_count": 4,
   "metadata": {
    "collapsed": false
   },
   "outputs": [
    {
     "ename": "NameError",
     "evalue": "name 'steam_df' is not defined",
     "output_type": "error",
     "traceback": [
      "\u001b[0;31m---------------------------------------------------------------------------\u001b[0m",
      "\u001b[0;31mNameError\u001b[0m                                 Traceback (most recent call last)",
      "\u001b[0;32m<ipython-input-4-d593b5b23ff4>\u001b[0m in \u001b[0;36m<module>\u001b[0;34m()\u001b[0m\n\u001b[1;32m     12\u001b[0m     \u001b[0mkf\u001b[0m \u001b[0;34m=\u001b[0m \u001b[0mKFold\u001b[0m\u001b[0;34m(\u001b[0m\u001b[0mfold\u001b[0m\u001b[0;34m,\u001b[0m \u001b[0mshuffle\u001b[0m\u001b[0;34m=\u001b[0m\u001b[0;32mTrue\u001b[0m\u001b[0;34m,\u001b[0m \u001b[0mrandom_state\u001b[0m\u001b[0;34m=\u001b[0m\u001b[0;36m1\u001b[0m\u001b[0;34m)\u001b[0m\u001b[0;34m\u001b[0m\u001b[0m\n\u001b[1;32m     13\u001b[0m     \u001b[0mmodel\u001b[0m \u001b[0;34m=\u001b[0m \u001b[0mKNeighborsRegressor\u001b[0m\u001b[0;34m(\u001b[0m\u001b[0mn_neighbors\u001b[0m \u001b[0;34m=\u001b[0m \u001b[0mk\u001b[0m\u001b[0;34m)\u001b[0m\u001b[0;34m\u001b[0m\u001b[0m\n\u001b[0;32m---> 14\u001b[0;31m     mses = cross_val_score(model, steam_df[X],\n\u001b[0m\u001b[1;32m     15\u001b[0m                            steam_df[y], scoring=\"neg_mean_squared_error\", cv=kf)\n\u001b[1;32m     16\u001b[0m     \u001b[0mrmses\u001b[0m \u001b[0;34m=\u001b[0m \u001b[0mnp\u001b[0m\u001b[0;34m.\u001b[0m\u001b[0msqrt\u001b[0m\u001b[0;34m(\u001b[0m\u001b[0mnp\u001b[0m\u001b[0;34m.\u001b[0m\u001b[0mabsolute\u001b[0m\u001b[0;34m(\u001b[0m\u001b[0mmses\u001b[0m\u001b[0;34m)\u001b[0m\u001b[0;34m)\u001b[0m\u001b[0;34m\u001b[0m\u001b[0m\n",
      "\u001b[0;31mNameError\u001b[0m: name 'steam_df' is not defined"
     ]
    }
   ],
   "source": [
    "from sklearn.neighbors import KNeighborsRegressor\n",
    "from sklearn.metrics import mean_squared_error\n",
    "from sklearn.model_selection import cross_val_score, KFold\n",
    "\n",
    "num_folds = [10, 20, 30, 40, 50, 60, 70, 80, 90, 100]\n",
    "\n",
    "X = ['ReleaseDate', 'DLCCount', 'MovieCount', 'GenreScore', 'CategoryScore']\n",
    "y = 'PriceFinal'\n",
    "k = 18\n",
    "\n",
    "for fold in num_folds:\n",
    "    kf = KFold(fold, shuffle=True, random_state=1)\n",
    "    model = KNeighborsRegressor(n_neighbors = k)\n",
    "    mses = cross_val_score(model, steam_df[X],\n",
    "                           steam_df[y], scoring=\"neg_mean_squared_error\", cv=kf)\n",
    "    rmses = np.sqrt(np.absolute(mses))\n",
    "    avg_rmse = np.mean(rmses)\n",
    "    std_rmse = np.std(rmses)\n",
    "    print(str(fold), \"folds: \", \"avg RMSE: \", str(avg_rmse), \"std RMSE: \", str(std_rmse))"
   ]
  },
  {
   "cell_type": "code",
   "execution_count": null,
   "metadata": {
    "collapsed": true
   },
   "outputs": [],
   "source": []
  }
 ],
 "metadata": {
  "kernelspec": {
   "display_name": "Python 3",
   "language": "python",
   "name": "python3"
  },
  "language_info": {
   "codemirror_mode": {
    "name": "ipython",
    "version": 3
   },
   "file_extension": ".py",
   "mimetype": "text/x-python",
   "name": "python",
   "nbconvert_exporter": "python",
   "pygments_lexer": "ipython3",
   "version": "3.6.0"
  }
 },
 "nbformat": 4,
 "nbformat_minor": 2
}
