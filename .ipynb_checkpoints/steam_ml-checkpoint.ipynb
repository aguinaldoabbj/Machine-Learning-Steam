{
 "cells": [
  {
   "cell_type": "code",
   "execution_count": 1,
   "metadata": {
    "collapsed": true
   },
   "outputs": [],
   "source": [
    "import pandas as pd\n",
    "from sklearn.neighbors import KNeighborsRegressor\n",
    "from sklearn.metrics import mean_squared_error\n",
    "import matplotlib.pyplot as plt\n",
    "import seaborn as sns"
   ]
  },
  {
   "cell_type": "code",
   "execution_count": 2,
   "metadata": {
    "collapsed": true
   },
   "outputs": [],
   "source": [
    "steam_df = pd.read_csv(\"steam_df.csv\", index_col=0)"
   ]
  },
  {
   "cell_type": "markdown",
   "metadata": {},
   "source": [
    "### 1 Feature Selection"
   ]
  },
  {
   "cell_type": "code",
   "execution_count": 3,
   "metadata": {
    "collapsed": true
   },
   "outputs": [],
   "source": [
    "test_len = int(len(steam_df)*0.25)\n",
    "train_len = len(steam_df) - test_len"
   ]
  },
  {
   "cell_type": "code",
   "execution_count": 7,
   "metadata": {
    "collapsed": true
   },
   "outputs": [],
   "source": [
    "train_df = steam_df.iloc[0:train_len]\n",
    "test_df = steam_df.iloc[train_len:]"
   ]
  },
  {
   "cell_type": "code",
   "execution_count": null,
   "metadata": {
    "collapsed": true
   },
   "outputs": [],
   "source": []
  },
  {
   "cell_type": "markdown",
   "metadata": {},
   "source": [
    "### 2 Hyperparameter Optimization"
   ]
  },
  {
   "cell_type": "code",
   "execution_count": 17,
   "metadata": {
    "collapsed": true
   },
   "outputs": [],
   "source": [
    "all_features = train_df.columns.drop('ResponseName','PriceFinal').tolist()\n",
    "mse_values = []\n",
    "hyper_params = range(1,21)"
   ]
  },
  {
   "cell_type": "code",
   "execution_count": 18,
   "metadata": {
    "collapsed": true
   },
   "outputs": [],
   "source": [
    "for k in hyper_params:\n",
    "    knn = KNeighborsRegressor(n_neighbors=k, algorithm='brute', metric='euclidean')\n",
    "    knn.fit(train_df[all_features], train_df['PriceFinal'])\n",
    "    predictions = knn.predict(test_df[all_features])\n",
    "    mse = mean_squared_error(predictions,test_df.PriceFinal)\n",
    "    mse_values.append(mse)"
   ]
  },
  {
   "cell_type": "code",
   "execution_count": 19,
   "metadata": {
    "collapsed": true
   },
   "outputs": [],
   "source": [
    "df = pd.DataFrame(\n",
    "    {'hyper_params': hyper_params,\n",
    "     'mse_values': mse_values\n",
    "    })"
   ]
  },
  {
   "cell_type": "code",
   "execution_count": 20,
   "metadata": {},
   "outputs": [
    {
     "data": {
      "image/png": "[encoded data removed]",
      "text/plain": [
       "<matplotlib.figure.Figure at 0x7f7a7bd69da0>"
      ]
     },
     "metadata": {},
     "output_type": "display_data"
    }
   ],
   "source": [
    "sns.lmplot(x='hyper_params', y='mse_values', data=df)\n",
    "\n",
    "plt.xticks(range(1,21))\n",
    "\n",
    "plt.show()"
   ]
  },
  {
   "cell_type": "markdown",
   "metadata": {},
   "source": [
    "### 3 Cross Validation"
   ]
  },
  {
   "cell_type": "code",
   "execution_count": 37,
   "metadata": {
    "collapsed": true
   },
   "outputs": [],
   "source": [
    "from sklearn.neighbors import KNeighborsRegressor\n",
    "from sklearn.metrics import mean_squared_error"
   ]
  },
  {
   "cell_type": "code",
   "execution_count": 40,
   "metadata": {
    "collapsed": true
   },
   "outputs": [],
   "source": [
    "X = steam_df.columns.drop(\"ResponseName\")\n",
    "y = \"PriceFinal\""
   ]
  },
  {
   "cell_type": "code",
   "execution_count": 42,
   "metadata": {},
   "outputs": [
    {
     "name": "stdout",
     "output_type": "stream",
     "text": [
      "25 folds:  avg RMSE:  9.56237449758 std RMSE:  2.65187078043\n",
      "27 folds:  avg RMSE:  9.54091023702 std RMSE:  2.64882386247\n",
      "29 folds:  avg RMSE:  9.57065294408 std RMSE:  2.65579405298\n",
      "31 folds:  avg RMSE:  9.51168514327 std RMSE:  2.82548889866\n",
      "33 folds:  avg RMSE:  9.51819906499 std RMSE:  2.85996285823\n",
      "35 folds:  avg RMSE:  9.48713285304 std RMSE:  2.93125576689\n",
      "37 folds:  avg RMSE:  9.49870925791 std RMSE:  2.89078440468\n"
     ]
    }
   ],
   "source": [
    "from sklearn.model_selection import cross_val_score, KFold\n",
    "import numpy as np\n",
    "\n",
    "#num_folds = [3, 5, 7, 9, 10, 11, 13, 15, 17, 19, 21, 23, 25, 27, 30]\n",
    "num_folds = [25, 27, 29, 31, 33, 35, 37]\n",
    "\n",
    "for fold in num_folds:\n",
    "    kf = KFold(fold, shuffle=True, random_state=1)\n",
    "    model = KNeighborsRegressor()\n",
    "    mses = cross_val_score(model, steam_df[X],\n",
    "                           steam_df[y], scoring=\"neg_mean_squared_error\", cv=kf)\n",
    "    rmses = np.sqrt(np.absolute(mses))\n",
    "    avg_rmse = np.mean(rmses)\n",
    "    std_rmse = np.std(rmses)\n",
    "    print(str(fold), \"folds: \", \"avg RMSE: \", str(avg_rmse), \"std RMSE: \", str(std_rmse))"
   ]
  },
  {
   "cell_type": "code",
   "execution_count": 39,
   "metadata": {},
   "outputs": [
    {
     "data": {
      "text/plain": [
       "Index(['ReleaseDate', 'RequiredAge', 'DLCCount', 'Metacritic', 'MovieCount',\n",
       "       'RecommendationCount', 'ScreenshotCount', 'SteamSpyOwners',\n",
       "       'SteamSpyPlayersEstimate', 'PriceFinal', 'GenreScore', 'PlatformScore',\n",
       "       'CategoryScore'],\n",
       "      dtype='object')"
      ]
     },
     "execution_count": 39,
     "metadata": {},
     "output_type": "execute_result"
    }
   ],
   "source": []
  },
  {
   "cell_type": "code",
   "execution_count": 29,
   "metadata": {},
   "outputs": [
    {
     "data": {
      "text/plain": [
       "Index(['Unnamed: 0', 'ReleaseDate', 'RequiredAge', 'DLCCount', 'Metacritic',\n",
       "       'MovieCount', 'RecommendationCount', 'ScreenshotCount',\n",
       "       'SteamSpyOwners', 'SteamSpyPlayersEstimate', 'PriceFinal', 'GenreScore',\n",
       "       'PlatformScore', 'CategoryScore'],\n",
       "      dtype='object')"
      ]
     },
     "execution_count": 29,
     "metadata": {},
     "output_type": "execute_result"
    }
   ],
   "source": [
    "X"
   ]
  },
  {
   "cell_type": "code",
   "execution_count": null,
   "metadata": {
    "collapsed": true
   },
   "outputs": [],
   "source": []
  }
 ],
 "metadata": {
  "kernelspec": {
   "display_name": "Python 3",
   "language": "python",
   "name": "python3"
  },
  "language_info": {
   "codemirror_mode": {
    "name": "ipython",
    "version": 3
   },
   "file_extension": ".py",
   "mimetype": "text/x-python",
   "name": "python",
   "nbconvert_exporter": "python",
   "pygments_lexer": "ipython3",
   "version": "3.6.1"
  }
 },
 "nbformat": 4,
 "nbformat_minor": 2
}
