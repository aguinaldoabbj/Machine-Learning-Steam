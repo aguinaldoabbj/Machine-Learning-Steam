{
 "cells": [
  {
   "cell_type": "code",
   "execution_count": 7,
   "metadata": {
    "collapsed": false
   },
   "outputs": [],
   "source": [
    "import pandas as pd\n",
    "from sklearn.neighbors import KNeighborsRegressor\n",
    "from sklearn.metrics import mean_squared_error\n",
    "import matplotlib.pyplot as plt\n",
    "import seaborn as sns\n",
    "%matplotlib inline"
   ]
  },
  {
   "cell_type": "code",
   "execution_count": 7,
   "metadata": {
    "collapsed": true
   },
   "outputs": [],
   "source": [
    "steam_df = pd.read_csv(\"steam_df.csv\", index_col=0)"
   ]
  },
  {
   "cell_type": "code",
   "execution_count": 4,
   "metadata": {
    "collapsed": false
   },
   "outputs": [
    {
     "data": {
      "text/html": [
       "<div>\n",
       "<table border=\"1\" class=\"dataframe\">\n",
       "  <thead>\n",
       "    <tr style=\"text-align: right;\">\n",
       "      <th></th>\n",
       "      <th>ResponseName</th>\n",
       "      <th>ReleaseDate</th>\n",
       "      <th>RequiredAge</th>\n",
       "      <th>DLCCount</th>\n",
       "      <th>Metacritic</th>\n",
       "      <th>MovieCount</th>\n",
       "      <th>RecommendationCount</th>\n",
       "      <th>ScreenshotCount</th>\n",
       "      <th>SteamSpyOwners</th>\n",
       "      <th>SteamSpyPlayersEstimate</th>\n",
       "      <th>PriceFinal</th>\n",
       "      <th>GenreScore</th>\n",
       "      <th>PlatformScore</th>\n",
       "      <th>CategoryScore</th>\n",
       "    </tr>\n",
       "  </thead>\n",
       "  <tbody>\n",
       "    <tr>\n",
       "      <th>0</th>\n",
       "      <td>Counter-Strike</td>\n",
       "      <td>2000</td>\n",
       "      <td>0</td>\n",
       "      <td>0</td>\n",
       "      <td>88</td>\n",
       "      <td>0</td>\n",
       "      <td>68991</td>\n",
       "      <td>13</td>\n",
       "      <td>13033334</td>\n",
       "      <td>9140731</td>\n",
       "      <td>9.99</td>\n",
       "      <td>1</td>\n",
       "      <td>3</td>\n",
       "      <td>1</td>\n",
       "    </tr>\n",
       "    <tr>\n",
       "      <th>1</th>\n",
       "      <td>Team Fortress Classic</td>\n",
       "      <td>1999</td>\n",
       "      <td>0</td>\n",
       "      <td>0</td>\n",
       "      <td>0</td>\n",
       "      <td>0</td>\n",
       "      <td>2439</td>\n",
       "      <td>5</td>\n",
       "      <td>5399140</td>\n",
       "      <td>753627</td>\n",
       "      <td>4.99</td>\n",
       "      <td>1</td>\n",
       "      <td>3</td>\n",
       "      <td>1</td>\n",
       "    </tr>\n",
       "    <tr>\n",
       "      <th>2</th>\n",
       "      <td>Day of Defeat</td>\n",
       "      <td>2003</td>\n",
       "      <td>0</td>\n",
       "      <td>0</td>\n",
       "      <td>79</td>\n",
       "      <td>0</td>\n",
       "      <td>2319</td>\n",
       "      <td>5</td>\n",
       "      <td>7621102</td>\n",
       "      <td>1709740</td>\n",
       "      <td>4.99</td>\n",
       "      <td>1</td>\n",
       "      <td>3</td>\n",
       "      <td>1</td>\n",
       "    </tr>\n",
       "    <tr>\n",
       "      <th>3</th>\n",
       "      <td>Deathmatch Classic</td>\n",
       "      <td>2001</td>\n",
       "      <td>0</td>\n",
       "      <td>0</td>\n",
       "      <td>0</td>\n",
       "      <td>0</td>\n",
       "      <td>888</td>\n",
       "      <td>4</td>\n",
       "      <td>7498965</td>\n",
       "      <td>789676</td>\n",
       "      <td>4.99</td>\n",
       "      <td>1</td>\n",
       "      <td>3</td>\n",
       "      <td>1</td>\n",
       "    </tr>\n",
       "    <tr>\n",
       "      <th>4</th>\n",
       "      <td>Half-Life: Opposing Force</td>\n",
       "      <td>1999</td>\n",
       "      <td>0</td>\n",
       "      <td>0</td>\n",
       "      <td>0</td>\n",
       "      <td>0</td>\n",
       "      <td>2934</td>\n",
       "      <td>5</td>\n",
       "      <td>5399499</td>\n",
       "      <td>705741</td>\n",
       "      <td>4.99</td>\n",
       "      <td>1</td>\n",
       "      <td>3</td>\n",
       "      <td>2</td>\n",
       "    </tr>\n",
       "  </tbody>\n",
       "</table>\n",
       "</div>"
      ],
      "text/plain": [
       "                ResponseName  ReleaseDate  RequiredAge  DLCCount  Metacritic  \\\n",
       "0             Counter-Strike         2000            0         0          88   \n",
       "1      Team Fortress Classic         1999            0         0           0   \n",
       "2              Day of Defeat         2003            0         0          79   \n",
       "3         Deathmatch Classic         2001            0         0           0   \n",
       "4  Half-Life: Opposing Force         1999            0         0           0   \n",
       "\n",
       "   MovieCount  RecommendationCount  ScreenshotCount  SteamSpyOwners  \\\n",
       "0           0                68991               13        13033334   \n",
       "1           0                 2439                5         5399140   \n",
       "2           0                 2319                5         7621102   \n",
       "3           0                  888                4         7498965   \n",
       "4           0                 2934                5         5399499   \n",
       "\n",
       "   SteamSpyPlayersEstimate  PriceFinal  GenreScore  PlatformScore  \\\n",
       "0                  9140731        9.99           1              3   \n",
       "1                   753627        4.99           1              3   \n",
       "2                  1709740        4.99           1              3   \n",
       "3                   789676        4.99           1              3   \n",
       "4                   705741        4.99           1              3   \n",
       "\n",
       "   CategoryScore  \n",
       "0              1  \n",
       "1              1  \n",
       "2              1  \n",
       "3              1  \n",
       "4              2  "
      ]
     },
     "execution_count": 4,
     "metadata": {},
     "output_type": "execute_result"
    }
   ],
   "source": [
    "steam_df.head()"
   ]
  },
  {
   "cell_type": "code",
   "execution_count": 9,
   "metadata": {
    "collapsed": false
   },
   "outputs": [
    {
     "data": {
      "text/html": [
       "<div>\n",
       "<table border=\"1\" class=\"dataframe\">\n",
       "  <thead>\n",
       "    <tr style=\"text-align: right;\">\n",
       "      <th></th>\n",
       "      <th>ReleaseDate</th>\n",
       "      <th>RequiredAge</th>\n",
       "      <th>DLCCount</th>\n",
       "      <th>Metacritic</th>\n",
       "      <th>MovieCount</th>\n",
       "      <th>RecommendationCount</th>\n",
       "      <th>ScreenshotCount</th>\n",
       "      <th>SteamSpyOwners</th>\n",
       "      <th>SteamSpyPlayersEstimate</th>\n",
       "      <th>PriceFinal</th>\n",
       "      <th>GenreScore</th>\n",
       "      <th>PlatformScore</th>\n",
       "      <th>CategoryScore</th>\n",
       "    </tr>\n",
       "  </thead>\n",
       "  <tbody>\n",
       "    <tr>\n",
       "      <th>count</th>\n",
       "      <td>13357.000000</td>\n",
       "      <td>13357.000000</td>\n",
       "      <td>13357.000000</td>\n",
       "      <td>13357.000000</td>\n",
       "      <td>13357.000000</td>\n",
       "      <td>1.335700e+04</td>\n",
       "      <td>13357.000000</td>\n",
       "      <td>1.335700e+04</td>\n",
       "      <td>1.335700e+04</td>\n",
       "      <td>13357.000000</td>\n",
       "      <td>13357.000000</td>\n",
       "      <td>13357.000000</td>\n",
       "      <td>13357.000000</td>\n",
       "    </tr>\n",
       "    <tr>\n",
       "      <th>mean</th>\n",
       "      <td>1888.675152</td>\n",
       "      <td>0.837688</td>\n",
       "      <td>0.805944</td>\n",
       "      <td>12.285319</td>\n",
       "      <td>1.321255</td>\n",
       "      <td>1.180463e+03</td>\n",
       "      <td>9.561204</td>\n",
       "      <td>1.668493e+05</td>\n",
       "      <td>1.081638e+05</td>\n",
       "      <td>8.798596</td>\n",
       "      <td>2.393352</td>\n",
       "      <td>1.570263</td>\n",
       "      <td>1.339822</td>\n",
       "    </tr>\n",
       "    <tr>\n",
       "      <th>std</th>\n",
       "      <td>487.423721</td>\n",
       "      <td>3.625701</td>\n",
       "      <td>10.034901</td>\n",
       "      <td>27.510876</td>\n",
       "      <td>1.178400</td>\n",
       "      <td>1.517606e+04</td>\n",
       "      <td>6.442893</td>\n",
       "      <td>1.127122e+06</td>\n",
       "      <td>1.006635e+06</td>\n",
       "      <td>13.606061</td>\n",
       "      <td>1.358735</td>\n",
       "      <td>0.814721</td>\n",
       "      <td>0.827181</td>\n",
       "    </tr>\n",
       "    <tr>\n",
       "      <th>min</th>\n",
       "      <td>0.000000</td>\n",
       "      <td>0.000000</td>\n",
       "      <td>0.000000</td>\n",
       "      <td>0.000000</td>\n",
       "      <td>0.000000</td>\n",
       "      <td>0.000000e+00</td>\n",
       "      <td>0.000000</td>\n",
       "      <td>0.000000e+00</td>\n",
       "      <td>0.000000e+00</td>\n",
       "      <td>0.000000</td>\n",
       "      <td>0.000000</td>\n",
       "      <td>1.000000</td>\n",
       "      <td>0.000000</td>\n",
       "    </tr>\n",
       "    <tr>\n",
       "      <th>25%</th>\n",
       "      <td>2014.000000</td>\n",
       "      <td>0.000000</td>\n",
       "      <td>0.000000</td>\n",
       "      <td>0.000000</td>\n",
       "      <td>1.000000</td>\n",
       "      <td>0.000000e+00</td>\n",
       "      <td>6.000000</td>\n",
       "      <td>8.970000e+02</td>\n",
       "      <td>5.370000e+02</td>\n",
       "      <td>1.990000</td>\n",
       "      <td>1.000000</td>\n",
       "      <td>1.000000</td>\n",
       "      <td>1.000000</td>\n",
       "    </tr>\n",
       "    <tr>\n",
       "      <th>50%</th>\n",
       "      <td>2015.000000</td>\n",
       "      <td>0.000000</td>\n",
       "      <td>0.000000</td>\n",
       "      <td>0.000000</td>\n",
       "      <td>1.000000</td>\n",
       "      <td>0.000000e+00</td>\n",
       "      <td>8.000000</td>\n",
       "      <td>9.506000e+03</td>\n",
       "      <td>4.125000e+03</td>\n",
       "      <td>5.990000</td>\n",
       "      <td>2.000000</td>\n",
       "      <td>1.000000</td>\n",
       "      <td>1.000000</td>\n",
       "    </tr>\n",
       "    <tr>\n",
       "      <th>75%</th>\n",
       "      <td>2016.000000</td>\n",
       "      <td>0.000000</td>\n",
       "      <td>0.000000</td>\n",
       "      <td>0.000000</td>\n",
       "      <td>2.000000</td>\n",
       "      <td>2.430000e+02</td>\n",
       "      <td>12.000000</td>\n",
       "      <td>6.044100e+04</td>\n",
       "      <td>2.815800e+04</td>\n",
       "      <td>9.990000</td>\n",
       "      <td>3.000000</td>\n",
       "      <td>2.000000</td>\n",
       "      <td>2.000000</td>\n",
       "    </tr>\n",
       "    <tr>\n",
       "      <th>max</th>\n",
       "      <td>2019.000000</td>\n",
       "      <td>18.000000</td>\n",
       "      <td>630.000000</td>\n",
       "      <td>96.000000</td>\n",
       "      <td>20.000000</td>\n",
       "      <td>1.427633e+06</td>\n",
       "      <td>114.000000</td>\n",
       "      <td>9.068758e+07</td>\n",
       "      <td>9.068758e+07</td>\n",
       "      <td>449.990000</td>\n",
       "      <td>10.000000</td>\n",
       "      <td>3.000000</td>\n",
       "      <td>6.000000</td>\n",
       "    </tr>\n",
       "  </tbody>\n",
       "</table>\n",
       "</div>"
      ],
      "text/plain": [
       "        ReleaseDate   RequiredAge      DLCCount    Metacritic    MovieCount  \\\n",
       "count  13357.000000  13357.000000  13357.000000  13357.000000  13357.000000   \n",
       "mean    1888.675152      0.837688      0.805944     12.285319      1.321255   \n",
       "std      487.423721      3.625701     10.034901     27.510876      1.178400   \n",
       "min        0.000000      0.000000      0.000000      0.000000      0.000000   \n",
       "25%     2014.000000      0.000000      0.000000      0.000000      1.000000   \n",
       "50%     2015.000000      0.000000      0.000000      0.000000      1.000000   \n",
       "75%     2016.000000      0.000000      0.000000      0.000000      2.000000   \n",
       "max     2019.000000     18.000000    630.000000     96.000000     20.000000   \n",
       "\n",
       "       RecommendationCount  ScreenshotCount  SteamSpyOwners  \\\n",
       "count         1.335700e+04     13357.000000    1.335700e+04   \n",
       "mean          1.180463e+03         9.561204    1.668493e+05   \n",
       "std           1.517606e+04         6.442893    1.127122e+06   \n",
       "min           0.000000e+00         0.000000    0.000000e+00   \n",
       "25%           0.000000e+00         6.000000    8.970000e+02   \n",
       "50%           0.000000e+00         8.000000    9.506000e+03   \n",
       "75%           2.430000e+02        12.000000    6.044100e+04   \n",
       "max           1.427633e+06       114.000000    9.068758e+07   \n",
       "\n",
       "       SteamSpyPlayersEstimate    PriceFinal    GenreScore  PlatformScore  \\\n",
       "count             1.335700e+04  13357.000000  13357.000000   13357.000000   \n",
       "mean              1.081638e+05      8.798596      2.393352       1.570263   \n",
       "std               1.006635e+06     13.606061      1.358735       0.814721   \n",
       "min               0.000000e+00      0.000000      0.000000       1.000000   \n",
       "25%               5.370000e+02      1.990000      1.000000       1.000000   \n",
       "50%               4.125000e+03      5.990000      2.000000       1.000000   \n",
       "75%               2.815800e+04      9.990000      3.000000       2.000000   \n",
       "max               9.068758e+07    449.990000     10.000000       3.000000   \n",
       "\n",
       "       CategoryScore  \n",
       "count   13357.000000  \n",
       "mean        1.339822  \n",
       "std         0.827181  \n",
       "min         0.000000  \n",
       "25%         1.000000  \n",
       "50%         1.000000  \n",
       "75%         2.000000  \n",
       "max         6.000000  "
      ]
     },
     "execution_count": 9,
     "metadata": {},
     "output_type": "execute_result"
    }
   ],
   "source": [
    "steam_df.describe()"
   ]
  },
  {
   "cell_type": "markdown",
   "metadata": {},
   "source": [
    "Make categorical data"
   ]
  },
  {
   "cell_type": "markdown",
   "metadata": {},
   "source": [
    "### 1 Feature Selection"
   ]
  },
  {
   "cell_type": "code",
   "execution_count": 35,
   "metadata": {
    "collapsed": false
   },
   "outputs": [
    {
     "data": {
      "text/plain": [
       "<matplotlib.axes._subplots.AxesSubplot at 0x7fc1f0602518>"
      ]
     },
     "execution_count": 35,
     "metadata": {},
     "output_type": "execute_result"
    },
    {
     "data": {
      "image/png": "[encoded data removed]",
      "text/plain": [
       "<matplotlib.figure.Figure at 0x7fc1f0601e48>"
      ]
     },
     "metadata": {},
     "output_type": "display_data"
    }
   ],
   "source": [
    "sns.heatmap(steam_df.corr())"
   ]
  },
  {
   "cell_type": "code",
   "execution_count": 10,
   "metadata": {
    "collapsed": false
   },
   "outputs": [
    {
     "data": {
      "text/html": [
       "<div>\n",
       "<table border=\"1\" class=\"dataframe\">\n",
       "  <thead>\n",
       "    <tr style=\"text-align: right;\">\n",
       "      <th></th>\n",
       "      <th>ReleaseDate</th>\n",
       "      <th>RequiredAge</th>\n",
       "      <th>DLCCount</th>\n",
       "      <th>Metacritic</th>\n",
       "      <th>MovieCount</th>\n",
       "      <th>RecommendationCount</th>\n",
       "      <th>ScreenshotCount</th>\n",
       "      <th>SteamSpyOwners</th>\n",
       "      <th>SteamSpyPlayersEstimate</th>\n",
       "      <th>PriceFinal</th>\n",
       "      <th>GenreScore</th>\n",
       "      <th>PlatformScore</th>\n",
       "      <th>CategoryScore</th>\n",
       "    </tr>\n",
       "  </thead>\n",
       "  <tbody>\n",
       "    <tr>\n",
       "      <th>ReleaseDate</th>\n",
       "      <td>1.000000</td>\n",
       "      <td>0.034695</td>\n",
       "      <td>0.016160</td>\n",
       "      <td>0.093425</td>\n",
       "      <td>0.023032</td>\n",
       "      <td>0.016632</td>\n",
       "      <td>0.033787</td>\n",
       "      <td>0.026916</td>\n",
       "      <td>0.020755</td>\n",
       "      <td>0.146236</td>\n",
       "      <td>-0.063290</td>\n",
       "      <td>0.003089</td>\n",
       "      <td>-0.039319</td>\n",
       "    </tr>\n",
       "    <tr>\n",
       "      <th>RequiredAge</th>\n",
       "      <td>0.034695</td>\n",
       "      <td>1.000000</td>\n",
       "      <td>0.032062</td>\n",
       "      <td>0.222106</td>\n",
       "      <td>0.148123</td>\n",
       "      <td>0.081822</td>\n",
       "      <td>0.066128</td>\n",
       "      <td>0.106011</td>\n",
       "      <td>0.085063</td>\n",
       "      <td>0.119554</td>\n",
       "      <td>-0.090813</td>\n",
       "      <td>-0.022474</td>\n",
       "      <td>0.041984</td>\n",
       "    </tr>\n",
       "    <tr>\n",
       "      <th>DLCCount</th>\n",
       "      <td>0.016160</td>\n",
       "      <td>0.032062</td>\n",
       "      <td>1.000000</td>\n",
       "      <td>0.033688</td>\n",
       "      <td>0.058173</td>\n",
       "      <td>0.038175</td>\n",
       "      <td>0.035816</td>\n",
       "      <td>0.037821</td>\n",
       "      <td>0.036305</td>\n",
       "      <td>0.091878</td>\n",
       "      <td>-0.027475</td>\n",
       "      <td>-0.007325</td>\n",
       "      <td>0.034960</td>\n",
       "    </tr>\n",
       "    <tr>\n",
       "      <th>Metacritic</th>\n",
       "      <td>0.093425</td>\n",
       "      <td>0.222106</td>\n",
       "      <td>0.033688</td>\n",
       "      <td>1.000000</td>\n",
       "      <td>0.191292</td>\n",
       "      <td>0.119577</td>\n",
       "      <td>0.167031</td>\n",
       "      <td>0.199204</td>\n",
       "      <td>0.162795</td>\n",
       "      <td>0.178289</td>\n",
       "      <td>-0.116001</td>\n",
       "      <td>0.070878</td>\n",
       "      <td>0.161732</td>\n",
       "    </tr>\n",
       "    <tr>\n",
       "      <th>MovieCount</th>\n",
       "      <td>0.023032</td>\n",
       "      <td>0.148123</td>\n",
       "      <td>0.058173</td>\n",
       "      <td>0.191292</td>\n",
       "      <td>1.000000</td>\n",
       "      <td>0.156099</td>\n",
       "      <td>0.339240</td>\n",
       "      <td>0.154597</td>\n",
       "      <td>0.154034</td>\n",
       "      <td>0.213601</td>\n",
       "      <td>0.180976</td>\n",
       "      <td>0.066913</td>\n",
       "      <td>0.252699</td>\n",
       "    </tr>\n",
       "    <tr>\n",
       "      <th>RecommendationCount</th>\n",
       "      <td>0.016632</td>\n",
       "      <td>0.081822</td>\n",
       "      <td>0.038175</td>\n",
       "      <td>0.119577</td>\n",
       "      <td>0.156099</td>\n",
       "      <td>1.000000</td>\n",
       "      <td>0.060691</td>\n",
       "      <td>0.642632</td>\n",
       "      <td>0.678356</td>\n",
       "      <td>0.044370</td>\n",
       "      <td>0.000928</td>\n",
       "      <td>0.048948</td>\n",
       "      <td>0.080053</td>\n",
       "    </tr>\n",
       "    <tr>\n",
       "      <th>ScreenshotCount</th>\n",
       "      <td>0.033787</td>\n",
       "      <td>0.066128</td>\n",
       "      <td>0.035816</td>\n",
       "      <td>0.167031</td>\n",
       "      <td>0.339240</td>\n",
       "      <td>0.060691</td>\n",
       "      <td>1.000000</td>\n",
       "      <td>0.075607</td>\n",
       "      <td>0.068101</td>\n",
       "      <td>0.151540</td>\n",
       "      <td>0.205194</td>\n",
       "      <td>0.024923</td>\n",
       "      <td>0.248942</td>\n",
       "    </tr>\n",
       "    <tr>\n",
       "      <th>SteamSpyOwners</th>\n",
       "      <td>0.026916</td>\n",
       "      <td>0.106011</td>\n",
       "      <td>0.037821</td>\n",
       "      <td>0.199204</td>\n",
       "      <td>0.154597</td>\n",
       "      <td>0.642632</td>\n",
       "      <td>0.075607</td>\n",
       "      <td>1.000000</td>\n",
       "      <td>0.966077</td>\n",
       "      <td>0.027384</td>\n",
       "      <td>-0.000079</td>\n",
       "      <td>0.068561</td>\n",
       "      <td>0.130733</td>\n",
       "    </tr>\n",
       "    <tr>\n",
       "      <th>SteamSpyPlayersEstimate</th>\n",
       "      <td>0.020755</td>\n",
       "      <td>0.085063</td>\n",
       "      <td>0.036305</td>\n",
       "      <td>0.162795</td>\n",
       "      <td>0.154034</td>\n",
       "      <td>0.678356</td>\n",
       "      <td>0.068101</td>\n",
       "      <td>0.966077</td>\n",
       "      <td>1.000000</td>\n",
       "      <td>0.030154</td>\n",
       "      <td>0.006753</td>\n",
       "      <td>0.057423</td>\n",
       "      <td>0.113672</td>\n",
       "    </tr>\n",
       "    <tr>\n",
       "      <th>PriceFinal</th>\n",
       "      <td>0.146236</td>\n",
       "      <td>0.119554</td>\n",
       "      <td>0.091878</td>\n",
       "      <td>0.178289</td>\n",
       "      <td>0.213601</td>\n",
       "      <td>0.044370</td>\n",
       "      <td>0.151540</td>\n",
       "      <td>0.027384</td>\n",
       "      <td>0.030154</td>\n",
       "      <td>1.000000</td>\n",
       "      <td>-0.076742</td>\n",
       "      <td>-0.014724</td>\n",
       "      <td>0.060288</td>\n",
       "    </tr>\n",
       "    <tr>\n",
       "      <th>GenreScore</th>\n",
       "      <td>-0.063290</td>\n",
       "      <td>-0.090813</td>\n",
       "      <td>-0.027475</td>\n",
       "      <td>-0.116001</td>\n",
       "      <td>0.180976</td>\n",
       "      <td>0.000928</td>\n",
       "      <td>0.205194</td>\n",
       "      <td>-0.000079</td>\n",
       "      <td>0.006753</td>\n",
       "      <td>-0.076742</td>\n",
       "      <td>1.000000</td>\n",
       "      <td>0.098197</td>\n",
       "      <td>0.301150</td>\n",
       "    </tr>\n",
       "    <tr>\n",
       "      <th>PlatformScore</th>\n",
       "      <td>0.003089</td>\n",
       "      <td>-0.022474</td>\n",
       "      <td>-0.007325</td>\n",
       "      <td>0.070878</td>\n",
       "      <td>0.066913</td>\n",
       "      <td>0.048948</td>\n",
       "      <td>0.024923</td>\n",
       "      <td>0.068561</td>\n",
       "      <td>0.057423</td>\n",
       "      <td>-0.014724</td>\n",
       "      <td>0.098197</td>\n",
       "      <td>1.000000</td>\n",
       "      <td>0.049615</td>\n",
       "    </tr>\n",
       "    <tr>\n",
       "      <th>CategoryScore</th>\n",
       "      <td>-0.039319</td>\n",
       "      <td>0.041984</td>\n",
       "      <td>0.034960</td>\n",
       "      <td>0.161732</td>\n",
       "      <td>0.252699</td>\n",
       "      <td>0.080053</td>\n",
       "      <td>0.248942</td>\n",
       "      <td>0.130733</td>\n",
       "      <td>0.113672</td>\n",
       "      <td>0.060288</td>\n",
       "      <td>0.301150</td>\n",
       "      <td>0.049615</td>\n",
       "      <td>1.000000</td>\n",
       "    </tr>\n",
       "  </tbody>\n",
       "</table>\n",
       "</div>"
      ],
      "text/plain": [
       "                         ReleaseDate  RequiredAge  DLCCount  Metacritic  \\\n",
       "ReleaseDate                 1.000000     0.034695  0.016160    0.093425   \n",
       "RequiredAge                 0.034695     1.000000  0.032062    0.222106   \n",
       "DLCCount                    0.016160     0.032062  1.000000    0.033688   \n",
       "Metacritic                  0.093425     0.222106  0.033688    1.000000   \n",
       "MovieCount                  0.023032     0.148123  0.058173    0.191292   \n",
       "RecommendationCount         0.016632     0.081822  0.038175    0.119577   \n",
       "ScreenshotCount             0.033787     0.066128  0.035816    0.167031   \n",
       "SteamSpyOwners              0.026916     0.106011  0.037821    0.199204   \n",
       "SteamSpyPlayersEstimate     0.020755     0.085063  0.036305    0.162795   \n",
       "PriceFinal                  0.146236     0.119554  0.091878    0.178289   \n",
       "GenreScore                 -0.063290    -0.090813 -0.027475   -0.116001   \n",
       "PlatformScore               0.003089    -0.022474 -0.007325    0.070878   \n",
       "CategoryScore              -0.039319     0.041984  0.034960    0.161732   \n",
       "\n",
       "                         MovieCount  RecommendationCount  ScreenshotCount  \\\n",
       "ReleaseDate                0.023032             0.016632         0.033787   \n",
       "RequiredAge                0.148123             0.081822         0.066128   \n",
       "DLCCount                   0.058173             0.038175         0.035816   \n",
       "Metacritic                 0.191292             0.119577         0.167031   \n",
       "MovieCount                 1.000000             0.156099         0.339240   \n",
       "RecommendationCount        0.156099             1.000000         0.060691   \n",
       "ScreenshotCount            0.339240             0.060691         1.000000   \n",
       "SteamSpyOwners             0.154597             0.642632         0.075607   \n",
       "SteamSpyPlayersEstimate    0.154034             0.678356         0.068101   \n",
       "PriceFinal                 0.213601             0.044370         0.151540   \n",
       "GenreScore                 0.180976             0.000928         0.205194   \n",
       "PlatformScore              0.066913             0.048948         0.024923   \n",
       "CategoryScore              0.252699             0.080053         0.248942   \n",
       "\n",
       "                         SteamSpyOwners  SteamSpyPlayersEstimate  PriceFinal  \\\n",
       "ReleaseDate                    0.026916                 0.020755    0.146236   \n",
       "RequiredAge                    0.106011                 0.085063    0.119554   \n",
       "DLCCount                       0.037821                 0.036305    0.091878   \n",
       "Metacritic                     0.199204                 0.162795    0.178289   \n",
       "MovieCount                     0.154597                 0.154034    0.213601   \n",
       "RecommendationCount            0.642632                 0.678356    0.044370   \n",
       "ScreenshotCount                0.075607                 0.068101    0.151540   \n",
       "SteamSpyOwners                 1.000000                 0.966077    0.027384   \n",
       "SteamSpyPlayersEstimate        0.966077                 1.000000    0.030154   \n",
       "PriceFinal                     0.027384                 0.030154    1.000000   \n",
       "GenreScore                    -0.000079                 0.006753   -0.076742   \n",
       "PlatformScore                  0.068561                 0.057423   -0.014724   \n",
       "CategoryScore                  0.130733                 0.113672    0.060288   \n",
       "\n",
       "                         GenreScore  PlatformScore  CategoryScore  \n",
       "ReleaseDate               -0.063290       0.003089      -0.039319  \n",
       "RequiredAge               -0.090813      -0.022474       0.041984  \n",
       "DLCCount                  -0.027475      -0.007325       0.034960  \n",
       "Metacritic                -0.116001       0.070878       0.161732  \n",
       "MovieCount                 0.180976       0.066913       0.252699  \n",
       "RecommendationCount        0.000928       0.048948       0.080053  \n",
       "ScreenshotCount            0.205194       0.024923       0.248942  \n",
       "SteamSpyOwners            -0.000079       0.068561       0.130733  \n",
       "SteamSpyPlayersEstimate    0.006753       0.057423       0.113672  \n",
       "PriceFinal                -0.076742      -0.014724       0.060288  \n",
       "GenreScore                 1.000000       0.098197       0.301150  \n",
       "PlatformScore              0.098197       1.000000       0.049615  \n",
       "CategoryScore              0.301150       0.049615       1.000000  "
      ]
     },
     "execution_count": 10,
     "metadata": {},
     "output_type": "execute_result"
    }
   ],
   "source": [
    "steam_df.corr()"
   ]
  },
  {
   "cell_type": "code",
   "execution_count": 26,
   "metadata": {
    "collapsed": true
   },
   "outputs": [],
   "source": [
    "steam_df_dropped = steam_df[steam_df.columns.drop(['ResponseName','DLCCount','RecommendationCount', 'SteamSpyOwners', 'SteamSpyPlayersEstimate', 'GenreScore', 'PlatformScore', 'CategoryScore'], errors='raise')]"
   ]
  },
  {
   "cell_type": "code",
   "execution_count": 29,
   "metadata": {
    "collapsed": true
   },
   "outputs": [],
   "source": [
    "test_len = int(len(steam_df_dropped)*0.25)\n",
    "train_len = len(steam_df_dropped) - test_len"
   ]
  },
  {
   "cell_type": "code",
   "execution_count": 30,
   "metadata": {
    "collapsed": false
   },
   "outputs": [],
   "source": [
    "train_df = steam_df_dropped.iloc[0:train_len]\n",
    "test_df = steam_df_dropped.iloc[train_len:]"
   ]
  },
  {
   "cell_type": "markdown",
   "metadata": {},
   "source": [
    "### 2 Hyperparameter Optimization"
   ]
  },
  {
   "cell_type": "code",
   "execution_count": 31,
   "metadata": {
    "collapsed": true
   },
   "outputs": [],
   "source": [
    "all_features = train_df.columns\n",
    "mse_values = []\n",
    "hyper_params = range(1,21)"
   ]
  },
  {
   "cell_type": "code",
   "execution_count": 32,
   "metadata": {
    "collapsed": true
   },
   "outputs": [],
   "source": [
    "df = pd.DataFrame(columns=['k', 'mse'])\n",
    "df.k = hyper_params"
   ]
  },
  {
   "cell_type": "code",
   "execution_count": 36,
   "metadata": {
    "collapsed": false
   },
   "outputs": [
    {
     "data": {
      "image/png": "[encoded data removed]",
      "text/plain": [
       "<matplotlib.figure.Figure at 0x7fc1ed198dd8>"
      ]
     },
     "metadata": {},
     "output_type": "display_data"
    },
    {
     "name": "stdout",
     "output_type": "stream",
     "text": [
      "[2.320704702006589, 2.3298428646301295, 0.72650659545439467, 0.71157843104222807, 1.9724551841868816, 3.3920092867125882, 3.8096292651472083, 5.4361344152440871, 6.8878417375646617, 8.3220617259658667, 9.6409100183407332, 10.863567668089257, 12.259371068650763, 13.606366937125269, 15.068692017037717, 16.422514556074987, 17.676274036110932, 18.811133567102598, 19.893153448832283, 20.864930466531899]\n"
     ]
    }
   ],
   "source": [
    "mse_values = []\n",
    "#for i in range(1,len(all_features)+1):\n",
    "for k in hyper_params:\n",
    "    #features = all_features[:i]\n",
    "    knn = KNeighborsRegressor(n_neighbors=k, algorithm='brute', metric='euclidean')\n",
    "    knn.fit(train_df[features], train_df['PriceFinal'])\n",
    "    predictions = knn.predict(test_df[features])\n",
    "    mse = mean_squared_error(predictions,test_df.PriceFinal)\n",
    "    mse_values.append(mse)\n",
    "\n",
    "df.mse = mse_values\n",
    "len(mse_values)\n",
    "sns.lmplot(x='k', y='mse', data=df)\n",
    "plt.title(features)\n",
    "plt.xticks(hyper_params)\n",
    "plt.show()\n",
    "print(mse_values)\n",
    "    "
   ]
  },
  {
   "cell_type": "markdown",
   "metadata": {},
   "source": [
    "$k = 4$ gives the lowest MSE"
   ]
  },
  {
   "cell_type": "markdown",
   "metadata": {},
   "source": [
    "### 3 Cross Validation"
   ]
  },
  {
   "cell_type": "code",
   "execution_count": 37,
   "metadata": {
    "collapsed": true
   },
   "outputs": [],
   "source": [
    "from sklearn.neighbors import KNeighborsRegressor\n",
    "from sklearn.metrics import mean_squared_error"
   ]
  },
  {
   "cell_type": "code",
   "execution_count": 41,
   "metadata": {
    "collapsed": true
   },
   "outputs": [],
   "source": [
    "steam_df = steam_df_dropped"
   ]
  },
  {
   "cell_type": "code",
   "execution_count": 42,
   "metadata": {
    "collapsed": true
   },
   "outputs": [],
   "source": [
    "X = steam_df.columns.drop(\"PriceFinal\")\n",
    "y = \"PriceFinal\""
   ]
  },
  {
   "cell_type": "code",
   "execution_count": 43,
   "metadata": {
    "collapsed": false
   },
   "outputs": [
    {
     "name": "stdout",
     "output_type": "stream",
     "text": [
      "3 folds:  avg RMSE:  13.7078952524 std RMSE:  0.741171106227\n",
      "5 folds:  avg RMSE:  13.9611953745 std RMSE:  0.607879261466\n",
      "7 folds:  avg RMSE:  13.5670588 std RMSE:  1.33298362126\n",
      "9 folds:  avg RMSE:  13.7464930095 std RMSE:  1.29795790605\n",
      "10 folds:  avg RMSE:  13.6154986995 std RMSE:  1.50174071138\n",
      "11 folds:  avg RMSE:  13.8233577722 std RMSE:  2.17470774569\n",
      "13 folds:  avg RMSE:  13.711444653 std RMSE:  2.19522303546\n",
      "15 folds:  avg RMSE:  13.4234432004 std RMSE:  2.64357965628\n",
      "17 folds:  avg RMSE:  13.8653579744 std RMSE:  3.11363020375\n",
      "19 folds:  avg RMSE:  13.4123373495 std RMSE:  3.25268672549\n",
      "21 folds:  avg RMSE:  13.1630632056 std RMSE:  3.51833653058\n",
      "23 folds:  avg RMSE:  13.1751624622 std RMSE:  3.68735010017\n",
      "25 folds:  avg RMSE:  13.4527029352 std RMSE:  4.26729922869\n",
      "27 folds:  avg RMSE:  13.4749380223 std RMSE:  4.09090527589\n",
      "30 folds:  avg RMSE:  13.1575242413 std RMSE:  4.11389344663\n"
     ]
    }
   ],
   "source": [
    "from sklearn.model_selection import cross_val_score, KFold\n",
    "import numpy as np\n",
    "\n",
    "num_folds = [3, 5, 7, 9, 10, 11, 13, 15, 17, 19, 21, 23, 25, 27, 30]\n",
    "#num_folds = [25, 27, 29, 31, 33, 35, 37]\n",
    "\n",
    "for fold in num_folds:\n",
    "    kf = KFold(fold, shuffle=True, random_state=1)\n",
    "    model = KNeighborsRegressor()\n",
    "    mses = cross_val_score(model, steam_df[X],\n",
    "                           steam_df[y], scoring=\"neg_mean_squared_error\", cv=kf)\n",
    "    rmses = np.sqrt(np.absolute(mses))\n",
    "    avg_rmse = np.mean(rmses)\n",
    "    std_rmse = np.std(rmses)\n",
    "    print(str(fold), \"folds: \", \"avg RMSE: \", str(avg_rmse), \"std RMSE: \", str(std_rmse))"
   ]
  },
  {
   "cell_type": "code",
   "execution_count": 45,
   "metadata": {
    "collapsed": false
   },
   "outputs": [
    {
     "data": {
      "text/plain": [
       "Index(['ReleaseDate', 'RequiredAge', 'Metacritic', 'MovieCount',\n",
       "       'ScreenshotCount'],\n",
       "      dtype='object')"
      ]
     },
     "execution_count": 45,
     "metadata": {},
     "output_type": "execute_result"
    }
   ],
   "source": [
    "X"
   ]
  },
  {
   "cell_type": "markdown",
   "metadata": {},
   "source": [
    "### Tudo Junto"
   ]
  },
  {
   "cell_type": "markdown",
   "metadata": {},
   "source": [
    "```python\n",
    "\n",
    "    import pandas as pd\n",
    "    import numpy as np\n",
    "    from sklearn.neighbors import KNeighborsRegressor\n",
    "    from sklearn.metrics import mean_squared_error\n",
    "    from sklearn.model_selection import cross_val_score, KFold\n",
    "\n",
    "    # Todas as combinações de features possíveis selecionando até n_max_features\n",
    "    n_max_features = 5\n",
    "    features = list(steam_df.columns)\n",
    "    features.remove('ResponseName')\n",
    "    features.remove('PriceFinal')\n",
    "    features_comb = []\n",
    "    import itertools\n",
    "    for L in range(1, n_max_features+1):\n",
    "        for subset in itertools.combinations(features, L):\n",
    "            features_comb.append(list(subset))\n",
    "    #features_comb = [['ReleaseDate'], ['ReleaseDate', 'RequiredAge'], ['ReleaseDate', 'RequiredAge', 'DLCCount']]\n",
    "    \n",
    "    # Valores de k testados\n",
    "    k_values = list(range(1,21))\n",
    "    \n",
    "    # Número de folds testados\n",
    "    n_folds = [10]\n",
    "    \n",
    "    results = pd.DataFrame(columns=['features', 'k_value', 'n_folds', 'avg_rmse', 'std_rmse'])\n",
    "   \n",
    "    for features in features_comb:\n",
    "        for k in k_values:\n",
    "            for folds in n_folds:\n",
    "                X = features\n",
    "                y = 'PriceFinal'\n",
    "                kf = KFold(folds, shuffle=True, random_state=1)\n",
    "                model = KNeighborsRegressor(n_neighbors = k)\n",
    "                mses = cross_val_score(model, steam_df[X]\n",
    "                                       steam_df[y], scoring=\\neg_mean_squared_error\\, cv=kf)\n",
    "                rmses = np.sqrt(np.absolute(mses))\n",
    "                avg_rmse = np.mean(rmses)\n",
    "                std_rmse = np.std(rmses)\n",
    "                results = results.append(pd.DataFrame([[str(features), k, folds, avg_rmse, std_rmse]], columns=['features', 'k_value', 'n_folds', 'avg_rmse', 'std_rmse']), ignore_index=True)\n",
    "\n",
    "    results.to_csv('results.csv')\n",
    "```"
   ]
  },
  {
   "cell_type": "code",
   "execution_count": 2,
   "metadata": {
    "collapsed": false
   },
   "outputs": [],
   "source": [
    "import pandas as pd\n",
    "results = pd.read_csv('results.csv')"
   ]
  },
  {
   "cell_type": "code",
   "execution_count": 4,
   "metadata": {
    "collapsed": false
   },
   "outputs": [
    {
     "data": {
      "text/html": [
       "<div>\n",
       "<table border=\"1\" class=\"dataframe\">\n",
       "  <thead>\n",
       "    <tr style=\"text-align: right;\">\n",
       "      <th></th>\n",
       "      <th>Unnamed: 0</th>\n",
       "      <th>features</th>\n",
       "      <th>k_value</th>\n",
       "      <th>n_folds</th>\n",
       "      <th>avg_rmse</th>\n",
       "      <th>std_rmse</th>\n",
       "    </tr>\n",
       "  </thead>\n",
       "  <tbody>\n",
       "    <tr>\n",
       "      <th>19217</th>\n",
       "      <td>19217</td>\n",
       "      <td>['ReleaseDate', 'DLCCount', 'MovieCount', 'Gen...</td>\n",
       "      <td>18.0</td>\n",
       "      <td>10.0</td>\n",
       "      <td>12.194433</td>\n",
       "      <td>1.724537</td>\n",
       "    </tr>\n",
       "    <tr>\n",
       "      <th>19216</th>\n",
       "      <td>19216</td>\n",
       "      <td>['ReleaseDate', 'DLCCount', 'MovieCount', 'Gen...</td>\n",
       "      <td>17.0</td>\n",
       "      <td>10.0</td>\n",
       "      <td>12.208596</td>\n",
       "      <td>1.743588</td>\n",
       "    </tr>\n",
       "    <tr>\n",
       "      <th>19218</th>\n",
       "      <td>19218</td>\n",
       "      <td>['ReleaseDate', 'DLCCount', 'MovieCount', 'Gen...</td>\n",
       "      <td>19.0</td>\n",
       "      <td>10.0</td>\n",
       "      <td>12.208759</td>\n",
       "      <td>1.733297</td>\n",
       "    </tr>\n",
       "    <tr>\n",
       "      <th>20334</th>\n",
       "      <td>20334</td>\n",
       "      <td>['ReleaseDate', 'Metacritic', 'MovieCount', 'G...</td>\n",
       "      <td>15.0</td>\n",
       "      <td>10.0</td>\n",
       "      <td>12.210979</td>\n",
       "      <td>1.713688</td>\n",
       "    </tr>\n",
       "    <tr>\n",
       "      <th>19210</th>\n",
       "      <td>19210</td>\n",
       "      <td>['ReleaseDate', 'DLCCount', 'MovieCount', 'Gen...</td>\n",
       "      <td>11.0</td>\n",
       "      <td>10.0</td>\n",
       "      <td>12.219757</td>\n",
       "      <td>1.728441</td>\n",
       "    </tr>\n",
       "  </tbody>\n",
       "</table>\n",
       "</div>"
      ],
      "text/plain": [
       "       Unnamed: 0                                           features  k_value  \\\n",
       "19217       19217  ['ReleaseDate', 'DLCCount', 'MovieCount', 'Gen...     18.0   \n",
       "19216       19216  ['ReleaseDate', 'DLCCount', 'MovieCount', 'Gen...     17.0   \n",
       "19218       19218  ['ReleaseDate', 'DLCCount', 'MovieCount', 'Gen...     19.0   \n",
       "20334       20334  ['ReleaseDate', 'Metacritic', 'MovieCount', 'G...     15.0   \n",
       "19210       19210  ['ReleaseDate', 'DLCCount', 'MovieCount', 'Gen...     11.0   \n",
       "\n",
       "       n_folds   avg_rmse  std_rmse  \n",
       "19217     10.0  12.194433  1.724537  \n",
       "19216     10.0  12.208596  1.743588  \n",
       "19218     10.0  12.208759  1.733297  \n",
       "20334     10.0  12.210979  1.713688  \n",
       "19210     10.0  12.219757  1.728441  "
      ]
     },
     "execution_count": 4,
     "metadata": {},
     "output_type": "execute_result"
    }
   ],
   "source": [
    "results.sort_values('avg_rmse').head()"
   ]
  },
  {
   "cell_type": "code",
   "execution_count": 5,
   "metadata": {
    "collapsed": false
   },
   "outputs": [
    {
     "data": {
      "text/plain": [
       "\"['ReleaseDate', 'DLCCount', 'MovieCount', 'GenreScore', 'CategoryScore']\""
      ]
     },
     "execution_count": 5,
     "metadata": {},
     "output_type": "execute_result"
    }
   ],
   "source": [
    "results.sort_values('avg_rmse').iloc[0]['features']"
   ]
  },
  {
   "cell_type": "code",
   "execution_count": 11,
   "metadata": {
    "collapsed": false
   },
   "outputs": [
    {
     "name": "stdout",
     "output_type": "stream",
     "text": [
      "3 folds:  avg RMSE:  12.3028256011 std RMSE:  0.664951703194\n",
      "5 folds:  avg RMSE:  12.4025582707 std RMSE:  0.752361378145\n",
      "7 folds:  avg RMSE:  12.2976582153 std RMSE:  1.24775851282\n",
      "9 folds:  avg RMSE:  12.246233075 std RMSE:  1.54622269098\n",
      "10 folds:  avg RMSE:  12.1944333672 std RMSE:  1.72453720721\n",
      "11 folds:  avg RMSE:  12.1618690296 std RMSE:  2.34001978049\n",
      "13 folds:  avg RMSE:  12.0613509054 std RMSE:  2.42953769428\n",
      "15 folds:  avg RMSE:  12.0943696165 std RMSE:  2.66397466875\n",
      "17 folds:  avg RMSE:  12.006828162 std RMSE:  2.97101704219\n",
      "19 folds:  avg RMSE:  11.929654977 std RMSE:  3.181320101\n",
      "21 folds:  avg RMSE:  11.8122067038 std RMSE:  3.37434136815\n",
      "23 folds:  avg RMSE:  11.7686672611 std RMSE:  3.75769857276\n",
      "25 folds:  avg RMSE:  11.748623716 std RMSE:  3.8633628708\n",
      "27 folds:  avg RMSE:  11.7432547732 std RMSE:  3.82722425143\n",
      "30 folds:  avg RMSE:  11.5988485581 std RMSE:  4.07758254198\n"
     ]
    }
   ],
   "source": [
    "import pandas as pd\n",
    "import numpy as np\n",
    "from sklearn.neighbors import KNeighborsRegressor\n",
    "from sklearn.metrics import mean_squared_error\n",
    "from sklearn.model_selection import cross_val_score, KFold\n",
    "\n",
    "num_folds = [3, 5, 7, 9, 10, 11, 13, 15, 17, 19, 21, 23, 25, 27, 30]\n",
    "#num_folds = [25, 27, 29, 31, 33, 35, 37]\n",
    "\n",
    "X = ['ReleaseDate', 'DLCCount', 'MovieCount', 'GenreScore', 'CategoryScore']\n",
    "y = 'PriceFinal'\n",
    "k = 18\n",
    "\n",
    "for fold in num_folds:\n",
    "    kf = KFold(fold, shuffle=True, random_state=1)\n",
    "    model = KNeighborsRegressor(n_neighbors = k)\n",
    "    mses = cross_val_score(model, steam_df[X],\n",
    "                           steam_df[y], scoring=\"neg_mean_squared_error\", cv=kf)\n",
    "    rmses = np.sqrt(np.absolute(mses))\n",
    "    avg_rmse = np.mean(rmses)\n",
    "    std_rmse = np.std(rmses)\n",
    "    print(str(fold), \"folds: \", \"avg RMSE: \", str(avg_rmse), \"std RMSE: \", str(std_rmse))"
   ]
  },
  {
   "cell_type": "code",
   "execution_count": null,
   "metadata": {
    "collapsed": true
   },
   "outputs": [],
   "source": []
  }
 ],
 "metadata": {
  "kernelspec": {
   "display_name": "Python 3",
   "language": "python",
   "name": "python3"
  },
  "language_info": {
   "codemirror_mode": {
    "name": "ipython",
    "version": 3
   },
   "file_extension": ".py",
   "mimetype": "text/x-python",
   "name": "python",
   "nbconvert_exporter": "python",
   "pygments_lexer": "ipython3",
   "version": "3.6.0"
  }
 },
 "nbformat": 4,
 "nbformat_minor": 2
}
