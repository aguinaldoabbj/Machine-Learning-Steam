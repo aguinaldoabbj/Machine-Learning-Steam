{
 "cells": [
  {
   "cell_type": "code",
   "execution_count": 1,
   "metadata": {
    "collapsed": true
   },
   "outputs": [],
   "source": [
    "import pandas as pd"
   ]
  },
  {
   "cell_type": "code",
   "execution_count": 2,
   "metadata": {
    "collapsed": true
   },
   "outputs": [],
   "source": [
    "df = pd.read_csv(\"games-features.csv\")"
   ]
  },
  {
   "cell_type": "code",
   "execution_count": 3,
   "metadata": {},
   "outputs": [
    {
     "data": {
      "text/plain": [
       "(13357, 78)"
      ]
     },
     "execution_count": 3,
     "metadata": {},
     "output_type": "execute_result"
    }
   ],
   "source": [
    "df.shape"
   ]
  },
  {
   "cell_type": "code",
   "execution_count": 4,
   "metadata": {},
   "outputs": [
    {
     "data": {
      "text/plain": [
       "78"
      ]
     },
     "execution_count": 4,
     "metadata": {},
     "output_type": "execute_result"
    }
   ],
   "source": [
    "len(df.columns)"
   ]
  },
  {
   "cell_type": "code",
   "execution_count": 5,
   "metadata": {},
   "outputs": [
    {
     "data": {
      "text/plain": [
       "QueryID                        0\n",
       "ResponseID                     0\n",
       "QueryName                      1\n",
       "ResponseName                   0\n",
       "ReleaseDate                    0\n",
       "RequiredAge                    0\n",
       "DemoCount                      0\n",
       "DeveloperCount                 0\n",
       "DLCCount                       0\n",
       "Metacritic                     0\n",
       "MovieCount                     0\n",
       "PackageCount                   0\n",
       "RecommendationCount            0\n",
       "PublisherCount                 0\n",
       "ScreenshotCount                0\n",
       "SteamSpyOwners                 0\n",
       "SteamSpyOwnersVariance         0\n",
       "SteamSpyPlayersEstimate        0\n",
       "SteamSpyPlayersVariance        0\n",
       "AchievementCount               0\n",
       "AchievementHighlightedCount    0\n",
       "ControllerSupport              0\n",
       "IsFree                         0\n",
       "FreeVerAvail                   0\n",
       "PurchaseAvail                  0\n",
       "SubscriptionAvail              0\n",
       "PlatformWindows                0\n",
       "PlatformLinux                  0\n",
       "PlatformMac                    0\n",
       "PCReqsHaveMin                  0\n",
       "                              ..\n",
       "GenreIsStrategy                0\n",
       "GenreIsRPG                     0\n",
       "GenreIsSimulation              0\n",
       "GenreIsEarlyAccess             0\n",
       "GenreIsFreeToPlay              0\n",
       "GenreIsSports                  0\n",
       "GenreIsRacing                  0\n",
       "GenreIsMassivelyMultiplayer    0\n",
       "PriceCurrency                  0\n",
       "PriceInitial                   0\n",
       "PriceFinal                     0\n",
       "SupportEmail                   0\n",
       "SupportURL                     1\n",
       "AboutText                      0\n",
       "Background                     0\n",
       "ShortDescrip                   0\n",
       "DetailedDescrip                0\n",
       "DRMNotice                      0\n",
       "ExtUserAcctNotice              0\n",
       "HeaderImage                    0\n",
       "LegalNotice                    1\n",
       "Reviews                        0\n",
       "SupportedLanguages             0\n",
       "Website                        0\n",
       "PCMinReqsText                  0\n",
       "PCRecReqsText                  0\n",
       "LinuxMinReqsText               0\n",
       "LinuxRecReqsText               0\n",
       "MacMinReqsText                 0\n",
       "MacRecReqsText                 0\n",
       "Length: 78, dtype: int64"
      ]
     },
     "execution_count": 5,
     "metadata": {},
     "output_type": "execute_result"
    }
   ],
   "source": [
    "df.isnull().sum()"
   ]
  },
  {
   "cell_type": "code",
   "execution_count": 6,
   "metadata": {
    "collapsed": true
   },
   "outputs": [],
   "source": [
    "genre_cols = [c for c in df.columns if not c.find(\"GenreIs\")]"
   ]
  },
  {
   "cell_type": "code",
   "execution_count": 7,
   "metadata": {
    "collapsed": true
   },
   "outputs": [],
   "source": [
    "genres = []\n",
    "for column in genre_cols:\n",
    "    genres.append(column.split('GenreIs')[1])"
   ]
  },
  {
   "cell_type": "code",
   "execution_count": 8,
   "metadata": {
    "collapsed": true
   },
   "outputs": [],
   "source": [
    "genre_dict = dict(zip(genres,range(1,len(genres)+1)))"
   ]
  },
  {
   "cell_type": "code",
   "execution_count": 9,
   "metadata": {
    "collapsed": true
   },
   "outputs": [],
   "source": [
    "# new_genre_column = []\n",
    "# for row in df[genre_cols].iterrows():\n",
    "#     row_str=\"\"\n",
    "#     for column in genre_cols:\n",
    "#         if row[1][column]:\n",
    "#             row_str += str(genre_dict.get(column.split('GenreIs')[1]))\n",
    "#     if row_str:\n",
    "#         new_genre_column.append(row_str)\n",
    "#     else:\n",
    "#         new_genre_column.append(\"0\")"
   ]
  },
  {
   "cell_type": "code",
   "execution_count": 10,
   "metadata": {
    "collapsed": true
   },
   "outputs": [],
   "source": [
    "new_genre_column = []\n",
    "for row in df[genre_cols].iterrows():\n",
    "    genre_score = 0\n",
    "    for column in genre_cols:\n",
    "        if row[1][column]:\n",
    "            genre_score += 1\n",
    "    new_genre_column.append(genre_score)"
   ]
  },
  {
   "cell_type": "code",
   "execution_count": 11,
   "metadata": {},
   "outputs": [
    {
     "data": {
      "text/plain": [
       "13357"
      ]
     },
     "execution_count": 11,
     "metadata": {},
     "output_type": "execute_result"
    }
   ],
   "source": [
    "len(new_genre_column)"
   ]
  },
  {
   "cell_type": "code",
   "execution_count": 12,
   "metadata": {
    "collapsed": true
   },
   "outputs": [],
   "source": [
    "plat_cols = [c for c in df.columns if not c.find(\"Platform\")]"
   ]
  },
  {
   "cell_type": "code",
   "execution_count": 13,
   "metadata": {
    "collapsed": true
   },
   "outputs": [],
   "source": [
    "new_plat_column = []\n",
    "for row in df[plat_cols].iterrows():\n",
    "    plat_score = 0\n",
    "    for column in plat_cols:\n",
    "        if row[1][column]:\n",
    "            plat_score += 1\n",
    "    new_plat_column.append(plat_score)"
   ]
  },
  {
   "cell_type": "code",
   "execution_count": 14,
   "metadata": {},
   "outputs": [
    {
     "data": {
      "text/plain": [
       "13357"
      ]
     },
     "execution_count": 14,
     "metadata": {},
     "output_type": "execute_result"
    }
   ],
   "source": [
    "len(new_plat_column)"
   ]
  },
  {
   "cell_type": "code",
   "execution_count": 15,
   "metadata": {
    "collapsed": true
   },
   "outputs": [],
   "source": [
    "cat_cols = [c for c in df.columns if not c.find(\"Category\")]"
   ]
  },
  {
   "cell_type": "code",
   "execution_count": 16,
   "metadata": {
    "collapsed": true
   },
   "outputs": [],
   "source": [
    "new_cat_column = []\n",
    "for row in df[cat_cols].iterrows():\n",
    "    cat_score = 0\n",
    "    for column in cat_cols:\n",
    "        if row[1][column]:\n",
    "            cat_score += 1\n",
    "    new_cat_column.append(cat_score)"
   ]
  },
  {
   "cell_type": "code",
   "execution_count": 17,
   "metadata": {},
   "outputs": [
    {
     "data": {
      "text/plain": [
       "13357"
      ]
     },
     "execution_count": 17,
     "metadata": {},
     "output_type": "execute_result"
    }
   ],
   "source": [
    "len(new_cat_column)"
   ]
  },
  {
   "cell_type": "code",
   "execution_count": 18,
   "metadata": {
    "collapsed": true
   },
   "outputs": [],
   "source": [
    "drop_genre_is = [c for c in df.columns if c.find(\"GenreIs\")]"
   ]
  },
  {
   "cell_type": "code",
   "execution_count": 19,
   "metadata": {
    "collapsed": true
   },
   "outputs": [],
   "source": [
    "df = df[drop_genre_is]"
   ]
  },
  {
   "cell_type": "code",
   "execution_count": 20,
   "metadata": {
    "collapsed": true
   },
   "outputs": [],
   "source": [
    "drop_platform_is = [c for c in df.columns if c.find(\"PlatformIs\")]"
   ]
  },
  {
   "cell_type": "code",
   "execution_count": 21,
   "metadata": {
    "collapsed": true
   },
   "outputs": [],
   "source": [
    "df = df[drop_platform_is]"
   ]
  },
  {
   "cell_type": "code",
   "execution_count": 22,
   "metadata": {
    "collapsed": true
   },
   "outputs": [],
   "source": [
    "drop_category_is = [c for c in df.columns if c.find(\"Category\")]"
   ]
  },
  {
   "cell_type": "code",
   "execution_count": 23,
   "metadata": {
    "collapsed": true
   },
   "outputs": [],
   "source": [
    "df = df[drop_category_is]"
   ]
  },
  {
   "cell_type": "code",
   "execution_count": 24,
   "metadata": {
    "collapsed": true
   },
   "outputs": [],
   "source": [
    "df[\"GenreScore\"] = new_genre_column\n",
    "df[\"PlatformScore\"] = new_plat_column\n",
    "df[\"CategoryScore\"] = new_cat_column"
   ]
  },
  {
   "cell_type": "code",
   "execution_count": 25,
   "metadata": {
    "collapsed": true
   },
   "outputs": [],
   "source": [
    "featured_cols = [\"ResponseName\",\n",
    "                 \"ReleaseDate\",\n",
    "                 \"RequiredAge\",\n",
    "                 \"DLCCount\",\n",
    "                 \"Metacritic\",\n",
    "                 \"MovieCount\",\n",
    "                 \"RecommendationCount\",\n",
    "                 \"ScreenshotCount\",\n",
    "                 \"SteamSpyOwners\",\n",
    "                 \"SteamSpyPlayersEstimate\",\n",
    "                 \"PriceFinal\",\n",
    "                 \"GenreScore\",\n",
    "                 \"PlatformScore\",\n",
    "                 \"CategoryScore\"]"
   ]
  },
  {
   "cell_type": "code",
   "execution_count": 26,
   "metadata": {
    "collapsed": true
   },
   "outputs": [],
   "source": [
    "steam_df = df[featured_cols]"
   ]
  },
  {
   "cell_type": "code",
   "execution_count": 29,
   "metadata": {},
   "outputs": [
    {
     "data": {
      "text/html": [
       "<div>\n",
       "<style>\n",
       "    .dataframe thead tr:only-child th {\n",
       "        text-align: right;\n",
       "    }\n",
       "\n",
       "    .dataframe thead th {\n",
       "        text-align: left;\n",
       "    }\n",
       "\n",
       "    .dataframe tbody tr th {\n",
       "        vertical-align: top;\n",
       "    }\n",
       "</style>\n",
       "<table border=\"1\" class=\"dataframe\">\n",
       "  <thead>\n",
       "    <tr style=\"text-align: right;\">\n",
       "      <th></th>\n",
       "      <th>ResponseName</th>\n",
       "      <th>ReleaseDate</th>\n",
       "      <th>RequiredAge</th>\n",
       "      <th>DLCCount</th>\n",
       "      <th>Metacritic</th>\n",
       "      <th>MovieCount</th>\n",
       "      <th>RecommendationCount</th>\n",
       "      <th>ScreenshotCount</th>\n",
       "      <th>SteamSpyOwners</th>\n",
       "      <th>SteamSpyPlayersEstimate</th>\n",
       "      <th>PriceFinal</th>\n",
       "      <th>GenreScore</th>\n",
       "      <th>PlatformScore</th>\n",
       "      <th>CategoryScore</th>\n",
       "    </tr>\n",
       "  </thead>\n",
       "  <tbody>\n",
       "    <tr>\n",
       "      <th>0</th>\n",
       "      <td>Counter-Strike</td>\n",
       "      <td>Nov 1 2000</td>\n",
       "      <td>0</td>\n",
       "      <td>0</td>\n",
       "      <td>88</td>\n",
       "      <td>0</td>\n",
       "      <td>68991</td>\n",
       "      <td>13</td>\n",
       "      <td>13033334</td>\n",
       "      <td>9140731</td>\n",
       "      <td>9.99</td>\n",
       "      <td>1</td>\n",
       "      <td>3</td>\n",
       "      <td>1</td>\n",
       "    </tr>\n",
       "    <tr>\n",
       "      <th>1</th>\n",
       "      <td>Team Fortress Classic</td>\n",
       "      <td>Apr 1 1999</td>\n",
       "      <td>0</td>\n",
       "      <td>0</td>\n",
       "      <td>0</td>\n",
       "      <td>0</td>\n",
       "      <td>2439</td>\n",
       "      <td>5</td>\n",
       "      <td>5399140</td>\n",
       "      <td>753627</td>\n",
       "      <td>4.99</td>\n",
       "      <td>1</td>\n",
       "      <td>3</td>\n",
       "      <td>1</td>\n",
       "    </tr>\n",
       "    <tr>\n",
       "      <th>2</th>\n",
       "      <td>Day of Defeat</td>\n",
       "      <td>May 1 2003</td>\n",
       "      <td>0</td>\n",
       "      <td>0</td>\n",
       "      <td>79</td>\n",
       "      <td>0</td>\n",
       "      <td>2319</td>\n",
       "      <td>5</td>\n",
       "      <td>7621102</td>\n",
       "      <td>1709740</td>\n",
       "      <td>4.99</td>\n",
       "      <td>1</td>\n",
       "      <td>3</td>\n",
       "      <td>1</td>\n",
       "    </tr>\n",
       "    <tr>\n",
       "      <th>3</th>\n",
       "      <td>Deathmatch Classic</td>\n",
       "      <td>Jun 1 2001</td>\n",
       "      <td>0</td>\n",
       "      <td>0</td>\n",
       "      <td>0</td>\n",
       "      <td>0</td>\n",
       "      <td>888</td>\n",
       "      <td>4</td>\n",
       "      <td>7498965</td>\n",
       "      <td>789676</td>\n",
       "      <td>4.99</td>\n",
       "      <td>1</td>\n",
       "      <td>3</td>\n",
       "      <td>1</td>\n",
       "    </tr>\n",
       "    <tr>\n",
       "      <th>4</th>\n",
       "      <td>Half-Life: Opposing Force</td>\n",
       "      <td>Nov 1 1999</td>\n",
       "      <td>0</td>\n",
       "      <td>0</td>\n",
       "      <td>0</td>\n",
       "      <td>0</td>\n",
       "      <td>2934</td>\n",
       "      <td>5</td>\n",
       "      <td>5399499</td>\n",
       "      <td>705741</td>\n",
       "      <td>4.99</td>\n",
       "      <td>1</td>\n",
       "      <td>3</td>\n",
       "      <td>2</td>\n",
       "    </tr>\n",
       "  </tbody>\n",
       "</table>\n",
       "</div>"
      ],
      "text/plain": [
       "                ResponseName ReleaseDate  RequiredAge  DLCCount  Metacritic  \\\n",
       "0             Counter-Strike  Nov 1 2000            0         0          88   \n",
       "1      Team Fortress Classic  Apr 1 1999            0         0           0   \n",
       "2              Day of Defeat  May 1 2003            0         0          79   \n",
       "3         Deathmatch Classic  Jun 1 2001            0         0           0   \n",
       "4  Half-Life: Opposing Force  Nov 1 1999            0         0           0   \n",
       "\n",
       "   MovieCount  RecommendationCount  ScreenshotCount  SteamSpyOwners  \\\n",
       "0           0                68991               13        13033334   \n",
       "1           0                 2439                5         5399140   \n",
       "2           0                 2319                5         7621102   \n",
       "3           0                  888                4         7498965   \n",
       "4           0                 2934                5         5399499   \n",
       "\n",
       "   SteamSpyPlayersEstimate  PriceFinal  GenreScore  PlatformScore  \\\n",
       "0                  9140731        9.99           1              3   \n",
       "1                   753627        4.99           1              3   \n",
       "2                  1709740        4.99           1              3   \n",
       "3                   789676        4.99           1              3   \n",
       "4                   705741        4.99           1              3   \n",
       "\n",
       "   CategoryScore  \n",
       "0              1  \n",
       "1              1  \n",
       "2              1  \n",
       "3              1  \n",
       "4              2  "
      ]
     },
     "execution_count": 29,
     "metadata": {},
     "output_type": "execute_result"
    }
   ],
   "source": [
    "steam_df.head()"
   ]
  },
  {
   "cell_type": "code",
   "execution_count": 64,
   "metadata": {},
   "outputs": [],
   "source": [
    "dates = list(steam_df.ReleaseDate.str.split())"
   ]
  },
  {
   "cell_type": "code",
   "execution_count": 88,
   "metadata": {},
   "outputs": [],
   "source": [
    "year = []\n",
    "for date in dates:\n",
    "    if len(date) == 3:\n",
    "        year.append(date[2])\n",
    "    else:\n",
    "        year.append(\"\")"
   ]
  },
  {
   "cell_type": "code",
   "execution_count": 90,
   "metadata": {},
   "outputs": [
    {
     "name": "stderr",
     "output_type": "stream",
     "text": [
      "/opt/anaconda3/lib/python3.6/site-packages/pandas/core/generic.py:2999: SettingWithCopyWarning: \n",
      "A value is trying to be set on a copy of a slice from a DataFrame.\n",
      "Try using .loc[row_indexer,col_indexer] = value instead\n",
      "\n",
      "See the caveats in the documentation: http://pandas.pydata.org/pandas-docs/stable/indexing.html#indexing-view-versus-copy\n",
      "  self[name] = value\n"
     ]
    }
   ],
   "source": [
    "steam_df.ReleaseDate = year"
   ]
  },
  {
   "cell_type": "code",
   "execution_count": 86,
   "metadata": {},
   "outputs": [
    {
     "ename": "AttributeError",
     "evalue": "module 'pandas' has no attribute 'iloc'",
     "output_type": "error",
     "traceback": [
      "\u001b[0;31m---------------------------------------------------------------------------\u001b[0m",
      "\u001b[0;31mAttributeError\u001b[0m                            Traceback (most recent call last)",
      "\u001b[0;32m<ipython-input-86-10a703eef412>\u001b[0m in \u001b[0;36m<module>\u001b[0;34m()\u001b[0m\n\u001b[0;32m----> 1\u001b[0;31m \u001b[0mdf\u001b[0m\u001b[0;34m[\u001b[0m\u001b[0mpd\u001b[0m\u001b[0;34m.\u001b[0m\u001b[0miloc\u001b[0m\u001b[0;34m[\u001b[0m\u001b[0mdf\u001b[0m\u001b[0;34m[\u001b[0m\u001b[0;34m\"ReleaseDate\"\u001b[0m\u001b[0;34m]\u001b[0m \u001b[0;34m==\u001b[0m \u001b[0;34m\"\"\u001b[0m\u001b[0;34m]\u001b[0m\u001b[0;34m]\u001b[0m\u001b[0;34m\u001b[0m\u001b[0m\n\u001b[0m",
      "\u001b[0;31mAttributeError\u001b[0m: module 'pandas' has no attribute 'iloc'"
     ]
    }
   ],
   "source": [
    "steam_df."
   ]
  },
  {
   "cell_type": "code",
   "execution_count": 74,
   "metadata": {
    "collapsed": true
   },
   "outputs": [],
   "source": [
    "test = \"oi\""
   ]
  },
  {
   "cell_type": "code",
   "execution_count": 75,
   "metadata": {},
   "outputs": [
    {
     "ename": "AttributeError",
     "evalue": "'str' object has no attribute 'empty'",
     "output_type": "error",
     "traceback": [
      "\u001b[0;31m---------------------------------------------------------------------------\u001b[0m",
      "\u001b[0;31mAttributeError\u001b[0m                            Traceback (most recent call last)",
      "\u001b[0;32m<ipython-input-75-82ef2b8f1d2a>\u001b[0m in \u001b[0;36m<module>\u001b[0;34m()\u001b[0m\n\u001b[0;32m----> 1\u001b[0;31m \u001b[0mtest\u001b[0m\u001b[0;34m.\u001b[0m\u001b[0mempty\u001b[0m\u001b[0;34m\u001b[0m\u001b[0m\n\u001b[0m",
      "\u001b[0;31mAttributeError\u001b[0m: 'str' object has no attribute 'empty'"
     ]
    }
   ],
   "source": [
    "test.empty"
   ]
  },
  {
   "cell_type": "code",
   "execution_count": null,
   "metadata": {
    "collapsed": true
   },
   "outputs": [],
   "source": []
  }
 ],
 "metadata": {
  "kernelspec": {
   "display_name": "Python 3",
   "language": "python",
   "name": "python3"
  },
  "language_info": {
   "codemirror_mode": {
    "name": "ipython",
    "version": 3
   },
   "file_extension": ".py",
   "mimetype": "text/x-python",
   "name": "python",
   "nbconvert_exporter": "python",
   "pygments_lexer": "ipython3",
   "version": "3.6.1"
  }
 },
 "nbformat": 4,
 "nbformat_minor": 2
}
